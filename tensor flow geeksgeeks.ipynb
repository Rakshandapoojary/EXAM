{
 "cells": [
  {
   "cell_type": "code",
   "execution_count": 13,
   "id": "d7284d01",
   "metadata": {},
   "outputs": [
    {
     "name": "stdout",
     "output_type": "stream",
     "text": [
      "2.11.0\n"
     ]
    }
   ],
   "source": [
    "import tensorflow as tf\n",
    "\n",
    "tf.compat.v1.disable_eager_execution()\n",
    "\n",
    "print(tf.__version__)"
   ]
  },
  {
   "cell_type": "code",
   "execution_count": 14,
   "id": "634096c5",
   "metadata": {},
   "outputs": [
    {
     "name": "stdout",
     "output_type": "stream",
     "text": [
      "sum of node1 and node2 is : 8\n"
     ]
    }
   ],
   "source": [
    "# importing tensorflow\n",
    "import tensorflow as tf\n",
    "\n",
    "# creating nodes in computation graph\n",
    "node1 = tf.constant(3, dtype=tf.int32)\n",
    "node2 = tf.constant(5, dtype=tf.int32)\n",
    "node3 = tf.add(node1, node2)\n",
    "\n",
    "# create tensorflow session object\n",
    "sess = tf.compat.v1.Session()\n",
    "\n",
    "# evaluating node3 and printing the result\n",
    "print(\"sum of node1 and node2 is :\",sess.run(node3))\n",
    "# closing the session\n",
    "sess.close()\n"
   ]
  },
  {
   "cell_type": "code",
   "execution_count": 32,
   "id": "e5051621",
   "metadata": {},
   "outputs": [
    {
     "name": "stdout",
     "output_type": "stream",
     "text": [
      "2.11.0\n",
      "Tensor value before addition:\n",
      " [[0. 0.]\n",
      " [0. 0.]]\n",
      "Tensor value after addition:\n",
      " [[1. 1.]\n",
      " [1. 1.]]\n"
     ]
    }
   ],
   "source": [
    "# importing tensorflow\n",
    "import tensorflow as tf\n",
    "\n",
    "tf.compat.v1.disable_eager_execution()\n",
    "\n",
    "print(tf.__version__)\n",
    "\n",
    "# creating nodes in computation graph\n",
    "node = tf.Variable(tf.zeros([2,2]))\n",
    "\n",
    "# running computation graph\n",
    "with tf.compat.v1.Session() as sess:\n",
    "    sess.run(tf.compat.v1.global_variables_initializer())\n",
    "\n",
    "# evaluating node\n",
    "    print(\"Tensor value before addition:\\n\",sess.run(node))\n",
    "\n",
    "# elementwise addition to tensor\n",
    "    node = node.assign(node + tf.ones([2,2]))\n",
    "\n",
    "# evaluate node again\n",
    "    print(\"Tensor value after addition:\\n\", sess.run(node))\n"
   ]
  },
  {
   "cell_type": "code",
   "execution_count": 38,
   "id": "22533828",
   "metadata": {},
   "outputs": [
    {
     "name": "stdout",
     "output_type": "stream",
     "text": [
      "[[3 6 9]\n",
      " [2 4 6]\n",
      " [1 2 3]]\n"
     ]
    }
   ],
   "source": [
    "# importing tensorflow\n",
    "import tensorflow as tf\n",
    "\n",
    "# creating nodes in computation graph\n",
    "a = tf.compat.v1.placeholder(tf.int32, shape=(3,1))\n",
    "b = tf.compat.v1.placeholder(tf.int32, shape=(1,3))\n",
    "c = tf.matmul(a,b)\n",
    "\n",
    "# running computation graph\n",
    "with tf.compat.v1.Session() as sess:\n",
    "\tprint(sess.run(c, feed_dict={a:[[3],[2],[1]], b:[[1,2,3]]}))\n"
   ]
  },
  {
   "cell_type": "code",
   "execution_count": null,
   "id": "b43f75a5",
   "metadata": {},
   "outputs": [],
   "source": []
  }
 ],
 "metadata": {
  "kernelspec": {
   "display_name": "Python 3 (ipykernel)",
   "language": "python",
   "name": "python3"
  },
  "language_info": {
   "codemirror_mode": {
    "name": "ipython",
    "version": 3
   },
   "file_extension": ".py",
   "mimetype": "text/x-python",
   "name": "python",
   "nbconvert_exporter": "python",
   "pygments_lexer": "ipython3",
   "version": "3.9.12"
  }
 },
 "nbformat": 4,
 "nbformat_minor": 5
}
