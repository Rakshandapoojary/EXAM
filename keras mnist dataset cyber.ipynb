{
 "cells": [
  {
   "cell_type": "code",
   "execution_count": 58,
   "id": "09487dee",
   "metadata": {},
   "outputs": [],
   "source": [
    "import numpy as np # linear algebra\n",
    "import pandas as pd # data processing, CSV file I/O (e.g. pd.read_csv)\n",
    "\n",
    "\n",
    "import matplotlib.pyplot as plt # plotting library\n",
    "%matplotlib inline\n",
    "\n",
    "\n",
    "from keras.models import Sequential\n",
    "from keras.layers import Dense , Activation, Dropout\n",
    "from keras.optimizers import Adam\n"
   ]
  },
  {
   "cell_type": "code",
   "execution_count": 59,
   "id": "50718508",
   "metadata": {},
   "outputs": [],
   "source": [
    "from keras.datasets import mnist"
   ]
  },
  {
   "cell_type": "code",
   "execution_count": 60,
   "id": "e809b8b9",
   "metadata": {},
   "outputs": [],
   "source": [
    "(x_train, y_train),(x_test, y_test) = mnist.load_data()"
   ]
  },
  {
   "cell_type": "code",
   "execution_count": 61,
   "id": "c0d6f2a9",
   "metadata": {},
   "outputs": [
    {
     "name": "stdout",
     "output_type": "stream",
     "text": [
      "10\n"
     ]
    }
   ],
   "source": [
    "num_labels = len(np.unique(y_train))\n",
    "print(num_labels)"
   ]
  },
  {
   "cell_type": "code",
   "execution_count": 62,
   "id": "68b983dd",
   "metadata": {},
   "outputs": [],
   "source": [
    "from keras.utils import to_categorical\n",
    "y_train = to_categorical(y_train)\n",
    "y_test = to_categorical(y_test)"
   ]
  },
  {
   "cell_type": "code",
   "execution_count": 65,
   "id": "302cf0af",
   "metadata": {},
   "outputs": [],
   "source": [
    "batch_size = 128\n",
    "hidden_units = 1150\n",
    "dropout = 0.45"
   ]
  },
  {
   "cell_type": "code",
   "execution_count": 66,
   "id": "c719e86f",
   "metadata": {},
   "outputs": [
    {
     "data": {
      "text/plain": [
       "(60000, 28, 28)"
      ]
     },
     "execution_count": 66,
     "metadata": {},
     "output_type": "execute_result"
    }
   ],
   "source": [
    "from keras.models import Sequential\n",
    "model = Sequential()\n",
    "x_train.shape"
   ]
  },
  {
   "cell_type": "code",
   "execution_count": 67,
   "id": "aada1ee1",
   "metadata": {},
   "outputs": [
    {
     "data": {
      "text/plain": [
       "784"
      ]
     },
     "execution_count": 67,
     "metadata": {},
     "output_type": "execute_result"
    }
   ],
   "source": [
    "image_size = x_train.shape[1]\n",
    "image_size\n",
    "input_size = image_size * image_size\n",
    "input_size"
   ]
  },
  {
   "cell_type": "code",
   "execution_count": 68,
   "id": "32466181",
   "metadata": {},
   "outputs": [],
   "source": [
    "x_train = np.reshape(x_train, [-1, input_size])\n",
    "x_train = x_train.astype('float32') / 255\n",
    "x_test = np.reshape(x_test, [-1, input_size])\n",
    "x_test = x_test.astype('float32') / 255"
   ]
  },
  {
   "cell_type": "code",
   "execution_count": 69,
   "id": "da296072",
   "metadata": {},
   "outputs": [],
   "source": [
    "model = Sequential()\n",
    "model.add(Dense(hidden_units, input_dim=input_size))\n",
    "model.add(Activation('relu'))\n",
    "model.add(Dropout(dropout))\n",
    "model.add(Dense(hidden_units))\n",
    "model.add(Activation('relu'))\n",
    "model.add(Dropout(dropout))\n",
    "model.add(Dense(hidden_units))\n",
    "model.add(Activation('relu'))\n",
    "\n",
    "model.add(Dense(num_labels))\n",
    "model.add(Activation('softmax'))"
   ]
  },
  {
   "cell_type": "code",
   "execution_count": 70,
   "id": "c2f5ab49",
   "metadata": {},
   "outputs": [
    {
     "name": "stdout",
     "output_type": "stream",
     "text": [
      "Model: \"sequential_13\"\n",
      "_________________________________________________________________\n",
      " Layer (type)                Output Shape              Param #   \n",
      "=================================================================\n",
      " dense_9 (Dense)             (None, 1150)              902750    \n",
      "                                                                 \n",
      " activation_9 (Activation)   (None, 1150)              0         \n",
      "                                                                 \n",
      " dropout_6 (Dropout)         (None, 1150)              0         \n",
      "                                                                 \n",
      " dense_10 (Dense)            (None, 1150)              1323650   \n",
      "                                                                 \n",
      " activation_10 (Activation)  (None, 1150)              0         \n",
      "                                                                 \n",
      " dropout_7 (Dropout)         (None, 1150)              0         \n",
      "                                                                 \n",
      " dense_11 (Dense)            (None, 10)                11510     \n",
      "                                                                 \n",
      " activation_11 (Activation)  (None, 10)                0         \n",
      "                                                                 \n",
      "=================================================================\n",
      "Total params: 2,237,910\n",
      "Trainable params: 2,237,910\n",
      "Non-trainable params: 0\n",
      "_________________________________________________________________\n"
     ]
    }
   ],
   "source": [
    "model.summary()"
   ]
  },
  {
   "cell_type": "code",
   "execution_count": 71,
   "id": "6fd0d806",
   "metadata": {},
   "outputs": [],
   "source": [
    "model.compile(loss='categorical_crossentropy', \n",
    "              optimizer='adam',\n",
    "              metrics=['accuracy'])"
   ]
  },
  {
   "cell_type": "code",
   "execution_count": null,
   "id": "a21b9c5f",
   "metadata": {},
   "outputs": [
    {
     "name": "stdout",
     "output_type": "stream",
     "text": [
      "Epoch 1/20\n",
      "469/469 [==============================] - 23s 47ms/step - loss: 0.2552 - accuracy: 0.9225\n",
      "Epoch 2/20\n",
      "469/469 [==============================] - 23s 49ms/step - loss: 0.1256 - accuracy: 0.9609\n",
      "Epoch 3/20\n",
      "469/469 [==============================] - 22s 48ms/step - loss: 0.0944 - accuracy: 0.9708\n",
      "Epoch 4/20\n",
      "469/469 [==============================] - 24s 52ms/step - loss: 0.0801 - accuracy: 0.9749\n",
      "Epoch 5/20\n",
      "469/469 [==============================] - 25s 53ms/step - loss: 0.0718 - accuracy: 0.9767\n",
      "Epoch 6/20\n",
      "469/469 [==============================] - 24s 50ms/step - loss: 0.0635 - accuracy: 0.9803\n",
      "Epoch 7/20\n",
      "469/469 [==============================] - 22s 47ms/step - loss: 0.0576 - accuracy: 0.9810\n",
      "Epoch 8/20\n",
      "469/469 [==============================] - 24s 50ms/step - loss: 0.0516 - accuracy: 0.9832\n",
      "Epoch 9/20\n",
      "469/469 [==============================] - 23s 49ms/step - loss: 0.0503 - accuracy: 0.9838\n",
      "Epoch 10/20\n",
      "469/469 [==============================] - 22s 48ms/step - loss: 0.0463 - accuracy: 0.9852\n",
      "Epoch 11/20\n",
      "469/469 [==============================] - 24s 50ms/step - loss: 0.0460 - accuracy: 0.9852\n",
      "Epoch 12/20\n",
      "469/469 [==============================] - 23s 49ms/step - loss: 0.0437 - accuracy: 0.9862\n",
      "Epoch 13/20\n",
      "469/469 [==============================] - 23s 49ms/step - loss: 0.0433 - accuracy: 0.9868\n",
      "Epoch 14/20\n",
      "469/469 [==============================] - 24s 52ms/step - loss: 0.0403 - accuracy: 0.9877\n",
      "Epoch 15/20\n",
      "469/469 [==============================] - 25s 53ms/step - loss: 0.0370 - accuracy: 0.9879\n",
      "Epoch 16/20\n",
      "469/469 [==============================] - 24s 51ms/step - loss: 0.0390 - accuracy: 0.9880\n",
      "Epoch 17/20\n",
      "469/469 [==============================] - 24s 51ms/step - loss: 0.0357 - accuracy: 0.9883\n",
      "Epoch 18/20\n",
      " 58/469 [==>...........................] - ETA: 20s - loss: 0.0320 - accuracy: 0.9892"
     ]
    }
   ],
   "source": [
    "model.fit(x_train, y_train, epochs=20, batch_size=batch_size)"
   ]
  },
  {
   "cell_type": "code",
   "execution_count": 56,
   "id": "02785a5c",
   "metadata": {},
   "outputs": [
    {
     "name": "stdout",
     "output_type": "stream",
     "text": [
      "79/79 [==============================] - 0s 2ms/step - loss: 0.0632 - accuracy: 0.9819\n",
      "\n",
      "Test accuracy: 98.2%\n"
     ]
    }
   ],
   "source": [
    "loss, acc = model.evaluate(x_test, y_test, batch_size=batch_size)\n",
    "print(\"\\nTest accuracy: %.1f%%\" % (100.0 * acc))"
   ]
  },
  {
   "cell_type": "code",
   "execution_count": null,
   "id": "a5a4de17",
   "metadata": {},
   "outputs": [],
   "source": []
  },
  {
   "cell_type": "code",
   "execution_count": null,
   "id": "8032b36e",
   "metadata": {},
   "outputs": [],
   "source": []
  },
  {
   "cell_type": "code",
   "execution_count": null,
   "id": "4a1b3fda",
   "metadata": {},
   "outputs": [],
   "source": []
  }
 ],
 "metadata": {
  "kernelspec": {
   "display_name": "Python 3 (ipykernel)",
   "language": "python",
   "name": "python3"
  },
  "language_info": {
   "codemirror_mode": {
    "name": "ipython",
    "version": 3
   },
   "file_extension": ".py",
   "mimetype": "text/x-python",
   "name": "python",
   "nbconvert_exporter": "python",
   "pygments_lexer": "ipython3",
   "version": "3.9.12"
  }
 },
 "nbformat": 4,
 "nbformat_minor": 5
}
